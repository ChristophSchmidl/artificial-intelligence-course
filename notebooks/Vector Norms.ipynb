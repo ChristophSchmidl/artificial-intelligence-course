{
 "cells": [
  {
   "cell_type": "markdown",
   "metadata": {},
   "source": [
    "# Vector Norms\n",
    "\n",
    "Vector norm is just a fancy name for the calculation of the length or magnitude of a vector. The length of the vector is referred to as the vector norm or the vector’s magnitude. It is calculated using some measure that summarizes the distance of the vector from the origin of the vector space. But according to Wikipedia, a norm is specified as follows:\n",
    "\n",
    "*In linear algebra, functional analysis, and related areas of mathematics, a **norm** is a function that satisfies certain properties pertaining to scalability and additivity, and assigns a strictly positive real number to each vector in a vector space over the field of real or complex numbers—except for the zero vector, which is assigned zero.*\n",
    "\n",
    "**Distance Measures and Norms**\n",
    "\n",
    "When you do not want to measure the distance between two vectors but rather calculate the norm of one vectors, then you normally just take the origin, e.g. (0,0,0) in a 3-dim space as the second vector.\n",
    "\n",
    "* **$L^0$ norm**: The $L^0$ norm is the number of non-zero elements in a vector. Then it is not strictly a measure of a distance.\n",
    "* **Manhattan distance/norm**, also called Taxicab distance (the $L^1$ norm, sometimes written $\\ell_1$ norm)\n",
    "    * The sum of the absolute values of the vector\n",
    "    * $d_1(p,q) = ||p - q||_1 = \\sum_{i=1}^n |p_i - q_i|$ where $(p,q)$ are vectors $p = (p_1, p_2, ..., p_n)$ and $q = (q_1, q_2, ..., q_n)$\n",
    "* **Euclidean distance/norm** (the $L^2$ norm, sometimes written $\\ell_2$ norm)\n",
    "    * The square root of the sum of the squared vector values\n",
    "    * Distance: $d(p, q) = \\sqrt{\\sum_{i=1}^n (q_i - p_i)^2}$\n",
    "    * Length/norm: $||p|| = \\sqrt{p^2_1 + p^2_2 + ... + p^2_n} = \\sqrt{p \\cdot p}$\n",
    "* **Chebyshev distance/norm** (the $L^\\infty$ norm or max norm, sometimes written $\\ell_\\infty$ norm)\n",
    "    * Maximum vector values\n",
    "* **Cosine similariy**\n",
    "    * The cosine of the angle between two vectors. Take the dot product of the two vectors and divide by the two lengths.  \n",
    "\n",
    "If you are curious about what the \"L\" actually stands for: https://www.quora.com/What-does-the-L-in-L%E2%82%81-norm-or-L%E2%82%82-norm-stand-for \n",
    "-> L is for Lebesgue. The Lebesgue space $L^p$ consists of all functions f such that the Lebesgue integral of $|f|^p $ is finite."
   ]
  },
  {
   "cell_type": "markdown",
   "metadata": {},
   "source": [
    "## A little primer on Norms\n",
    "\n",
    "1-norm: $||w||_1 = |w_1| + |w_2| + ... + |w_N|$\n",
    "\n",
    "2-norm: $(w^2_1 + w^2_2 + ... + w^2_N)^{\\frac{1}{2}}$\n",
    "\n",
    "p-norm: $(w^p_1 + w^p_2 + ... + w^p_N)^{\\frac{1}{p}}$\n",
    "\n",
    "If you are curious about the connection between Norms and Regularisation: https://towardsdatascience.com/intuitions-on-l1-and-l2-regularisation-235f2db4c261#f810"
   ]
  },
  {
   "cell_type": "markdown",
   "metadata": {},
   "source": [
    "## Vector L0 Norm"
   ]
  },
  {
   "cell_type": "code",
   "execution_count": 6,
   "metadata": {},
   "outputs": [
    {
     "name": "stdout",
     "output_type": "stream",
     "text": [
      "[0 2 3]\n",
      "2.0\n"
     ]
    }
   ],
   "source": [
    "from numpy import array\n",
    "from numpy.linalg import norm\n",
    "a = array([0, 2, 3])\n",
    "print(a)\n",
    "l0 = norm(a, 0)\n",
    "print(l0)"
   ]
  },
  {
   "cell_type": "markdown",
   "metadata": {},
   "source": [
    "## Vector L1 Norm (Manhattan)\n",
    "\n",
    "\n",
    "The notation for the $L^1$ norm of a vector is $||v||_1$."
   ]
  },
  {
   "cell_type": "code",
   "execution_count": 2,
   "metadata": {},
   "outputs": [
    {
     "name": "stdout",
     "output_type": "stream",
     "text": [
      "[1 2 3]\n",
      "6.0\n"
     ]
    }
   ],
   "source": [
    "from numpy import array\n",
    "from numpy.linalg import norm\n",
    "a = array([1, 2, 3])\n",
    "print(a)\n",
    "l1 = norm(a, 1)\n",
    "print(l1)"
   ]
  },
  {
   "cell_type": "markdown",
   "metadata": {},
   "source": [
    "## Vector L2 Norm (Euclidean)\n",
    "\n",
    "The notation for the $L^2$ norm of a vector is $||v||_2$"
   ]
  },
  {
   "cell_type": "code",
   "execution_count": 4,
   "metadata": {},
   "outputs": [
    {
     "name": "stdout",
     "output_type": "stream",
     "text": [
      "[1 2 3]\n",
      "3.7416573867739413\n"
     ]
    }
   ],
   "source": [
    "from numpy import array\n",
    "from numpy.linalg import norm\n",
    "a = array([1, 2, 3])\n",
    "print(a)\n",
    "l2 = norm(a)\n",
    "print(l2)"
   ]
  },
  {
   "cell_type": "markdown",
   "metadata": {},
   "source": [
    "## Vector Max Norm\n",
    "\n",
    "The notation for max norm is $||x||_\\infty$"
   ]
  },
  {
   "cell_type": "code",
   "execution_count": 5,
   "metadata": {},
   "outputs": [
    {
     "name": "stdout",
     "output_type": "stream",
     "text": [
      "[1 2 3]\n",
      "3.0\n"
     ]
    }
   ],
   "source": [
    "from numpy import inf\n",
    "from numpy import array\n",
    "from numpy.linalg import norm\n",
    "a = array([1, 2, 3])\n",
    "print(a)\n",
    "maxnorm = norm(a, inf)\n",
    "print(maxnorm)"
   ]
  },
  {
   "cell_type": "markdown",
   "metadata": {},
   "source": [
    "## Cosine Similarity\n",
    "\n",
    "This one is not a norm! This measure is often used in Natural Language Processing for word embeddings to check how similar certain words are. Cosine similarity ignores the magnitude difference of the vectors and only checks in how far two vectors point into the same direction."
   ]
  },
  {
   "cell_type": "code",
   "execution_count": 14,
   "metadata": {},
   "outputs": [
    {
     "name": "stdout",
     "output_type": "stream",
     "text": [
      "Manual computation of cos sim: 0.9449111825230682\n",
      "Automatic computation of cos sim: [[0.94491118]]\n"
     ]
    }
   ],
   "source": [
    "import numpy as np\n",
    "from sklearn.metrics.pairwise import cosine_similarity\n",
    " \n",
    "# vectors\n",
    "a = np.array([1,2,3])\n",
    "b = np.array([1,1,4])\n",
    " \n",
    "# manually compute cosine similarity\n",
    "dot = np.dot(a, b)\n",
    "norma = np.linalg.norm(a)\n",
    "normb = np.linalg.norm(b)\n",
    "cos_man = dot / (norma * normb) # l2 norm\n",
    "\n",
    "print(\"Manual computation of cos sim: {}\".format(cos_man))\n",
    "\n",
    "vec1 = np.array([[1,2,3]])\n",
    "vec2 = np.array([[1,1,4]])\n",
    "cos_aut = cosine_similarity(vec1, vec2)\n",
    "print(\"Automatic computation of cos sim: {}\".format(cos_aut))"
   ]
  }
 ],
 "metadata": {
  "kernelspec": {
   "display_name": "Python 3",
   "language": "python",
   "name": "python3"
  },
  "language_info": {
   "codemirror_mode": {
    "name": "ipython",
    "version": 3
   },
   "file_extension": ".py",
   "mimetype": "text/x-python",
   "name": "python",
   "nbconvert_exporter": "python",
   "pygments_lexer": "ipython3",
   "version": "3.7.4"
  }
 },
 "nbformat": 4,
 "nbformat_minor": 2
}
